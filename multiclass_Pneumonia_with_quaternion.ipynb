{
  "nbformat": 4,
  "nbformat_minor": 0,
  "metadata": {
    "colab": {
      "name": "multiclass_Pneumonia_with_quaternion.ipynb",
      "provenance": [],
      "collapsed_sections": [],
      "include_colab_link": true
    },
    "kernelspec": {
      "name": "python3",
      "display_name": "Python 3"
    }
  },
  "cells": [
    {
      "cell_type": "markdown",
      "metadata": {
        "id": "view-in-github",
        "colab_type": "text"
      },
      "source": [
        "<a href=\"https://colab.research.google.com/github/singhsukhendra/myproject/blob/main/multiclass_Pneumonia_with_quaternion.ipynb\" target=\"_parent\"><img src=\"https://colab.research.google.com/assets/colab-badge.svg\" alt=\"Open In Colab\"/></a>"
      ]
    },
    {
      "cell_type": "code",
      "metadata": {
        "colab": {
          "base_uri": "https://localhost:8080/"
        },
        "id": "yoG0CGZ_EV9m",
        "outputId": "39c16a22-c032-446a-8f05-3241714c1c79"
      },
      "source": [
        "!pip install keras==2.2.2"
      ],
      "execution_count": null,
      "outputs": [
        {
          "output_type": "stream",
          "text": [
            "Collecting keras==2.2.2\n",
            "\u001b[?25l  Downloading https://files.pythonhosted.org/packages/34/7d/b1dedde8af99bd82f20ed7e9697aac0597de3049b1f786aa2aac3b9bd4da/Keras-2.2.2-py2.py3-none-any.whl (299kB)\n",
            "\u001b[K     |████████████████████████████████| 307kB 4.2MB/s \n",
            "\u001b[?25hCollecting keras-preprocessing==1.0.2\n",
            "  Downloading https://files.pythonhosted.org/packages/71/26/1e778ebd737032749824d5cba7dbd3b0cf9234b87ab5ec79f5f0403ca7e9/Keras_Preprocessing-1.0.2-py2.py3-none-any.whl\n",
            "Requirement already satisfied: h5py in /usr/local/lib/python3.6/dist-packages (from keras==2.2.2) (2.10.0)\n",
            "Requirement already satisfied: pyyaml in /usr/local/lib/python3.6/dist-packages (from keras==2.2.2) (3.13)\n",
            "Requirement already satisfied: six>=1.9.0 in /usr/local/lib/python3.6/dist-packages (from keras==2.2.2) (1.15.0)\n",
            "Requirement already satisfied: numpy>=1.9.1 in /usr/local/lib/python3.6/dist-packages (from keras==2.2.2) (1.19.5)\n",
            "Collecting keras-applications==1.0.4\n",
            "\u001b[?25l  Downloading https://files.pythonhosted.org/packages/54/90/8f327deaa37a71caddb59b7b4aaa9d4b3e90c0e76f8c2d1572005278ddc5/Keras_Applications-1.0.4-py2.py3-none-any.whl (43kB)\n",
            "\u001b[K     |████████████████████████████████| 51kB 5.6MB/s \n",
            "\u001b[?25hRequirement already satisfied: scipy>=0.14 in /usr/local/lib/python3.6/dist-packages (from keras==2.2.2) (1.4.1)\n",
            "\u001b[31mERROR: tensorflow 2.4.0 has requirement keras-preprocessing~=1.1.2, but you'll have keras-preprocessing 1.0.2 which is incompatible.\u001b[0m\n",
            "Installing collected packages: keras-preprocessing, keras-applications, keras\n",
            "  Found existing installation: Keras-Preprocessing 1.1.2\n",
            "    Uninstalling Keras-Preprocessing-1.1.2:\n",
            "      Successfully uninstalled Keras-Preprocessing-1.1.2\n",
            "  Found existing installation: Keras 2.4.3\n",
            "    Uninstalling Keras-2.4.3:\n",
            "      Successfully uninstalled Keras-2.4.3\n",
            "Successfully installed keras-2.2.2 keras-applications-1.0.4 keras-preprocessing-1.0.2\n"
          ],
          "name": "stdout"
        }
      ]
    },
    {
      "cell_type": "code",
      "metadata": {
        "colab": {
          "base_uri": "https://localhost:8080/",
          "height": 1000
        },
        "id": "RFnKPt76EV6O",
        "outputId": "90244ea5-d0c2-4ba4-e98f-85c1b5130b0c"
      },
      "source": [
        "!pip install tensorflow==1.10.0"
      ],
      "execution_count": null,
      "outputs": [
        {
          "output_type": "stream",
          "text": [
            "Collecting tensorflow==1.10.0\n",
            "\u001b[?25l  Downloading https://files.pythonhosted.org/packages/ee/e6/a6d371306c23c2b01cd2cb38909673d17ddd388d9e4b3c0f6602bfd972c8/tensorflow-1.10.0-cp36-cp36m-manylinux1_x86_64.whl (58.4MB)\n",
            "\u001b[K     |████████████████████████████████| 58.4MB 65kB/s \n",
            "\u001b[?25hCollecting setuptools<=39.1.0\n",
            "\u001b[?25l  Downloading https://files.pythonhosted.org/packages/8c/10/79282747f9169f21c053c562a0baa21815a8c7879be97abd930dbcf862e8/setuptools-39.1.0-py2.py3-none-any.whl (566kB)\n",
            "\u001b[K     |████████████████████████████████| 573kB 40.5MB/s \n",
            "\u001b[?25hRequirement already satisfied: gast>=0.2.0 in /usr/local/lib/python3.6/dist-packages (from tensorflow==1.10.0) (0.3.3)\n",
            "Collecting tensorboard<1.11.0,>=1.10.0\n",
            "\u001b[?25l  Downloading https://files.pythonhosted.org/packages/c6/17/ecd918a004f297955c30b4fffbea100b1606c225dbf0443264012773c3ff/tensorboard-1.10.0-py3-none-any.whl (3.3MB)\n",
            "\u001b[K     |████████████████████████████████| 3.3MB 23.9MB/s \n",
            "\u001b[?25hRequirement already satisfied: grpcio>=1.8.6 in /usr/local/lib/python3.6/dist-packages (from tensorflow==1.10.0) (1.32.0)\n",
            "Requirement already satisfied: termcolor>=1.1.0 in /usr/local/lib/python3.6/dist-packages (from tensorflow==1.10.0) (1.1.0)\n",
            "Requirement already satisfied: astor>=0.6.0 in /usr/local/lib/python3.6/dist-packages (from tensorflow==1.10.0) (0.8.1)\n",
            "Requirement already satisfied: absl-py>=0.1.6 in /usr/local/lib/python3.6/dist-packages (from tensorflow==1.10.0) (0.10.0)\n",
            "Requirement already satisfied: protobuf>=3.6.0 in /usr/local/lib/python3.6/dist-packages (from tensorflow==1.10.0) (3.12.4)\n",
            "Collecting numpy<=1.14.5,>=1.13.3\n",
            "\u001b[?25l  Downloading https://files.pythonhosted.org/packages/68/1e/116ad560de97694e2d0c1843a7a0075cc9f49e922454d32f49a80eb6f1f2/numpy-1.14.5-cp36-cp36m-manylinux1_x86_64.whl (12.2MB)\n",
            "\u001b[K     |████████████████████████████████| 12.2MB 30.9MB/s \n",
            "\u001b[?25hRequirement already satisfied: wheel>=0.26 in /usr/local/lib/python3.6/dist-packages (from tensorflow==1.10.0) (0.36.2)\n",
            "Requirement already satisfied: six>=1.10.0 in /usr/local/lib/python3.6/dist-packages (from tensorflow==1.10.0) (1.15.0)\n",
            "Requirement already satisfied: markdown>=2.6.8 in /usr/local/lib/python3.6/dist-packages (from tensorboard<1.11.0,>=1.10.0->tensorflow==1.10.0) (3.3.3)\n",
            "Requirement already satisfied: werkzeug>=0.11.10 in /usr/local/lib/python3.6/dist-packages (from tensorboard<1.11.0,>=1.10.0->tensorflow==1.10.0) (1.0.1)\n",
            "Requirement already satisfied: importlib-metadata; python_version < \"3.8\" in /usr/local/lib/python3.6/dist-packages (from markdown>=2.6.8->tensorboard<1.11.0,>=1.10.0->tensorflow==1.10.0) (3.3.0)\n",
            "Requirement already satisfied: zipp>=0.5 in /usr/local/lib/python3.6/dist-packages (from importlib-metadata; python_version < \"3.8\"->markdown>=2.6.8->tensorboard<1.11.0,>=1.10.0->tensorflow==1.10.0) (3.4.0)\n",
            "Requirement already satisfied: typing-extensions>=3.6.4; python_version < \"3.8\" in /usr/local/lib/python3.6/dist-packages (from importlib-metadata; python_version < \"3.8\"->markdown>=2.6.8->tensorboard<1.11.0,>=1.10.0->tensorflow==1.10.0) (3.7.4.3)\n",
            "\u001b[31mERROR: xarray 0.15.1 has requirement numpy>=1.15, but you'll have numpy 1.14.5 which is incompatible.\u001b[0m\n",
            "\u001b[31mERROR: xarray 0.15.1 has requirement setuptools>=41.2, but you'll have setuptools 39.1.0 which is incompatible.\u001b[0m\n",
            "\u001b[31mERROR: umap-learn 0.4.6 has requirement numpy>=1.17, but you'll have numpy 1.14.5 which is incompatible.\u001b[0m\n",
            "\u001b[31mERROR: tifffile 2020.9.3 has requirement numpy>=1.15.1, but you'll have numpy 1.14.5 which is incompatible.\u001b[0m\n",
            "\u001b[31mERROR: spacy 2.2.4 has requirement numpy>=1.15.0, but you'll have numpy 1.14.5 which is incompatible.\u001b[0m\n",
            "\u001b[31mERROR: seaborn 0.11.1 has requirement numpy>=1.15, but you'll have numpy 1.14.5 which is incompatible.\u001b[0m\n",
            "\u001b[31mERROR: plotnine 0.6.0 has requirement numpy>=1.16.0, but you'll have numpy 1.14.5 which is incompatible.\u001b[0m\n",
            "\u001b[31mERROR: pandas 1.1.5 has requirement numpy>=1.15.4, but you'll have numpy 1.14.5 which is incompatible.\u001b[0m\n",
            "\u001b[31mERROR: numba 0.48.0 has requirement numpy>=1.15, but you'll have numpy 1.14.5 which is incompatible.\u001b[0m\n",
            "\u001b[31mERROR: imgaug 0.2.9 has requirement numpy>=1.15.0, but you'll have numpy 1.14.5 which is incompatible.\u001b[0m\n",
            "\u001b[31mERROR: google-auth 1.17.2 has requirement setuptools>=40.3.0, but you'll have setuptools 39.1.0 which is incompatible.\u001b[0m\n",
            "\u001b[31mERROR: fbprophet 0.7.1 has requirement numpy>=1.15.4, but you'll have numpy 1.14.5 which is incompatible.\u001b[0m\n",
            "\u001b[31mERROR: fastai 1.0.61 has requirement numpy>=1.15, but you'll have numpy 1.14.5 which is incompatible.\u001b[0m\n",
            "\u001b[31mERROR: datascience 0.10.6 has requirement folium==0.2.1, but you'll have folium 0.8.3 which is incompatible.\u001b[0m\n",
            "\u001b[31mERROR: cvxpy 1.0.31 has requirement numpy>=1.15, but you'll have numpy 1.14.5 which is incompatible.\u001b[0m\n",
            "\u001b[31mERROR: blis 0.4.1 has requirement numpy>=1.15.0, but you'll have numpy 1.14.5 which is incompatible.\u001b[0m\n",
            "\u001b[31mERROR: astropy 4.1 has requirement numpy>=1.16, but you'll have numpy 1.14.5 which is incompatible.\u001b[0m\n",
            "\u001b[31mERROR: albumentations 0.1.12 has requirement imgaug<0.2.7,>=0.2.5, but you'll have imgaug 0.2.9 which is incompatible.\u001b[0m\n",
            "Installing collected packages: setuptools, numpy, tensorboard, tensorflow\n",
            "  Found existing installation: setuptools 51.1.1\n",
            "    Uninstalling setuptools-51.1.1:\n",
            "      Successfully uninstalled setuptools-51.1.1\n",
            "  Found existing installation: numpy 1.19.5\n",
            "    Uninstalling numpy-1.19.5:\n",
            "      Successfully uninstalled numpy-1.19.5\n",
            "  Found existing installation: tensorboard 2.4.0\n",
            "    Uninstalling tensorboard-2.4.0:\n",
            "      Successfully uninstalled tensorboard-2.4.0\n",
            "  Found existing installation: tensorflow 2.4.0\n",
            "    Uninstalling tensorflow-2.4.0:\n",
            "      Successfully uninstalled tensorflow-2.4.0\n",
            "Successfully installed numpy-1.14.5 setuptools-39.1.0 tensorboard-1.10.0 tensorflow-1.10.0\n"
          ],
          "name": "stdout"
        },
        {
          "output_type": "display_data",
          "data": {
            "application/vnd.colab-display-data+json": {
              "pip_warning": {
                "packages": [
                  "numpy",
                  "pkg_resources"
                ]
              }
            }
          },
          "metadata": {
            "tags": []
          }
        }
      ]
    },
    {
      "cell_type": "code",
      "metadata": {
        "colab": {
          "base_uri": "https://localhost:8080/"
        },
        "id": "OdHo86JG7E4X",
        "outputId": "57ae5909-b793-4be8-98e9-a3db304bc90f"
      },
      "source": [
        "import pandas as pd\r\n",
        "import numpy as np\r\n",
        "import os\r\n",
        "from tqdm import tqdm\r\n",
        "from glob import glob\r\n",
        "import itertools\r\n",
        "import fnmatch\r\n",
        "import random\r\n",
        "import matplotlib.pylab as plt\r\n",
        "%matplotlib inline\r\n",
        "import seaborn as sns\r\n",
        "import cv2\r\n",
        "import sys\r\n",
        "from sklearn.model_selection import train_test_split\r\n",
        "from keras.preprocessing.image import load_img,img_to_array"
      ],
      "execution_count": null,
      "outputs": [
        {
          "output_type": "stream",
          "text": [
            "Using TensorFlow backend.\n",
            "/usr/local/lib/python3.6/dist-packages/tensorflow/python/framework/dtypes.py:523: FutureWarning: Passing (type, 1) or '1type' as a synonym of type is deprecated; in a future version of numpy, it will be understood as (type, (1,)) / '(1,)type'.\n",
            "  _np_qint8 = np.dtype([(\"qint8\", np.int8, 1)])\n",
            "/usr/local/lib/python3.6/dist-packages/tensorflow/python/framework/dtypes.py:524: FutureWarning: Passing (type, 1) or '1type' as a synonym of type is deprecated; in a future version of numpy, it will be understood as (type, (1,)) / '(1,)type'.\n",
            "  _np_quint8 = np.dtype([(\"quint8\", np.uint8, 1)])\n",
            "/usr/local/lib/python3.6/dist-packages/tensorflow/python/framework/dtypes.py:525: FutureWarning: Passing (type, 1) or '1type' as a synonym of type is deprecated; in a future version of numpy, it will be understood as (type, (1,)) / '(1,)type'.\n",
            "  _np_qint16 = np.dtype([(\"qint16\", np.int16, 1)])\n",
            "/usr/local/lib/python3.6/dist-packages/tensorflow/python/framework/dtypes.py:526: FutureWarning: Passing (type, 1) or '1type' as a synonym of type is deprecated; in a future version of numpy, it will be understood as (type, (1,)) / '(1,)type'.\n",
            "  _np_quint16 = np.dtype([(\"quint16\", np.uint16, 1)])\n",
            "/usr/local/lib/python3.6/dist-packages/tensorflow/python/framework/dtypes.py:527: FutureWarning: Passing (type, 1) or '1type' as a synonym of type is deprecated; in a future version of numpy, it will be understood as (type, (1,)) / '(1,)type'.\n",
            "  _np_qint32 = np.dtype([(\"qint32\", np.int32, 1)])\n",
            "/usr/local/lib/python3.6/dist-packages/tensorflow/python/framework/dtypes.py:532: FutureWarning: Passing (type, 1) or '1type' as a synonym of type is deprecated; in a future version of numpy, it will be understood as (type, (1,)) / '(1,)type'.\n",
            "  np_resource = np.dtype([(\"resource\", np.ubyte, 1)])\n"
          ],
          "name": "stderr"
        }
      ]
    },
    {
      "cell_type": "code",
      "metadata": {
        "id": "5Xqyp-IX7p-t"
      },
      "source": [
        "import zipfile\r\n",
        "\r\n",
        "with zipfile.ZipFile(\"/content/drive/MyDrive/complexnn.zip\",\"r\") as zip_ref:\r\n",
        "    zip_ref.extractall()"
      ],
      "execution_count": null,
      "outputs": []
    },
    {
      "cell_type": "code",
      "metadata": {
        "id": "VP7P-i9PBMQS"
      },
      "source": [
        "from complexnn                               import *\r\n",
        "from   keras.layers                          import *\r\n",
        "from   keras.models                          import Model\r\n",
        "import keras.backend                         as     K\r\n",
        "import numpy                                 as     np"
      ],
      "execution_count": null,
      "outputs": []
    },
    {
      "cell_type": "code",
      "metadata": {
        "id": "_uqPFwE-7qDR"
      },
      "source": [
        "files_covid = glob('/content/drive/MyDrive/Pneumonia3classdata/Covid/*')\r\n",
        "files_normal = glob('/content/drive/MyDrive/Pneumonia3classdata/Normal/*')\r\n",
        "files_pnenumonia = glob('/content/drive/MyDrive/Pneumonia3classdata/Pneumonia/*')"
      ],
      "execution_count": null,
      "outputs": []
    },
    {
      "cell_type": "code",
      "metadata": {
        "colab": {
          "base_uri": "https://localhost:8080/"
        },
        "id": "1Kfgz3KP7qFy",
        "outputId": "e77c5878-8855-420c-8b3a-a5c4a1a2ab0c"
      },
      "source": [
        "len(files_covid),len(files_normal),len(files_pnenumonia)"
      ],
      "execution_count": null,
      "outputs": [
        {
          "output_type": "execute_result",
          "data": {
            "text/plain": [
              "(196, 196, 196)"
            ]
          },
          "metadata": {
            "tags": []
          },
          "execution_count": 8
        }
      ]
    },
    {
      "cell_type": "code",
      "metadata": {
        "id": "qmG3hxOr7qIS"
      },
      "source": [
        "labels = [1] * len(files_covid)+ [0] * len(files_normal)+ [2] * len(files_pnenumonia)\r\n",
        "files = files_covid + files_normal + files_pnenumonia"
      ],
      "execution_count": null,
      "outputs": []
    },
    {
      "cell_type": "code",
      "metadata": {
        "colab": {
          "base_uri": "https://localhost:8080/"
        },
        "id": "cERgWeW_7qKr",
        "outputId": "669bafd6-1185-4614-ca41-bd2a7ec34c12"
      },
      "source": [
        "len(files)"
      ],
      "execution_count": null,
      "outputs": [
        {
          "output_type": "execute_result",
          "data": {
            "text/plain": [
              "588"
            ]
          },
          "metadata": {
            "tags": []
          },
          "execution_count": 10
        }
      ]
    },
    {
      "cell_type": "code",
      "metadata": {
        "id": "SQlKoNbE-RRw"
      },
      "source": [
        "train,test,train_labels,test_labels = train_test_split(files,labels,test_size=0.2)\r\n",
        "train,val,train_labels,val_labels = train_test_split(train,train_labels,test_size=0.2)"
      ],
      "execution_count": null,
      "outputs": []
    },
    {
      "cell_type": "code",
      "metadata": {
        "colab": {
          "base_uri": "https://localhost:8080/",
          "height": 339
        },
        "id": "VIWYKBvA7qNF",
        "outputId": "574a97d0-a8a3-41a0-8256-9e08f48702a8"
      },
      "source": [
        "sns.countplot(train_labels)"
      ],
      "execution_count": null,
      "outputs": [
        {
          "output_type": "stream",
          "text": [
            "/usr/local/lib/python3.6/dist-packages/seaborn/_decorators.py:43: FutureWarning: Pass the following variable as a keyword arg: x. From version 0.12, the only valid positional argument will be `data`, and passing other arguments without an explicit keyword will result in an error or misinterpretation.\n",
            "  FutureWarning\n"
          ],
          "name": "stderr"
        },
        {
          "output_type": "execute_result",
          "data": {
            "text/plain": [
              "<matplotlib.axes._subplots.AxesSubplot at 0x7fcce668da90>"
            ]
          },
          "metadata": {
            "tags": []
          },
          "execution_count": 12
        },
        {
          "output_type": "display_data",
          "data": {
            "image/png": "[encoded data removed]",
            "text/plain": [
              "<Figure size 432x288 with 1 Axes>"
            ]
          },
          "metadata": {
            "tags": [],
            "needs_background": "light"
          }
        }
      ]
    },
    {
      "cell_type": "code",
      "metadata": {
        "colab": {
          "base_uri": "https://localhost:8080/",
          "height": 339
        },
        "id": "QxAf2Cvl7qPM",
        "outputId": "832fe85f-a947-44f4-94cb-7450728c246a"
      },
      "source": [
        "sns.countplot(test_labels)"
      ],
      "execution_count": null,
      "outputs": [
        {
          "output_type": "stream",
          "text": [
            "/usr/local/lib/python3.6/dist-packages/seaborn/_decorators.py:43: FutureWarning: Pass the following variable as a keyword arg: x. From version 0.12, the only valid positional argument will be `data`, and passing other arguments without an explicit keyword will result in an error or misinterpretation.\n",
            "  FutureWarning\n"
          ],
          "name": "stderr"
        },
        {
          "output_type": "execute_result",
          "data": {
            "text/plain": [
              "<matplotlib.axes._subplots.AxesSubplot at 0x7fcce66040f0>"
            ]
          },
          "metadata": {
            "tags": []
          },
          "execution_count": 13
        },
        {
          "output_type": "display_data",
          "data": {
            "image/png": "[encoded data removed]",
            "text/plain": [
              "<Figure size 432x288 with 1 Axes>"
            ]
          },
          "metadata": {
            "tags": [],
            "needs_background": "light"
          }
        }
      ]
    },
    {
      "cell_type": "code",
      "metadata": {
        "colab": {
          "base_uri": "https://localhost:8080/",
          "height": 339
        },
        "id": "OOQLJs5k7qRR",
        "outputId": "99c6e43a-949b-4017-bc2e-87441c308672"
      },
      "source": [
        "sns.countplot(val_labels)"
      ],
      "execution_count": null,
      "outputs": [
        {
          "output_type": "stream",
          "text": [
            "/usr/local/lib/python3.6/dist-packages/seaborn/_decorators.py:43: FutureWarning: Pass the following variable as a keyword arg: x. From version 0.12, the only valid positional argument will be `data`, and passing other arguments without an explicit keyword will result in an error or misinterpretation.\n",
            "  FutureWarning\n"
          ],
          "name": "stderr"
        },
        {
          "output_type": "execute_result",
          "data": {
            "text/plain": [
              "<matplotlib.axes._subplots.AxesSubplot at 0x7fcce6107860>"
            ]
          },
          "metadata": {
            "tags": []
          },
          "execution_count": 14
        },
        {
          "output_type": "display_data",
          "data": {
            "image/png": "[encoded data removed]",
            "text/plain": [
              "<Figure size 432x288 with 1 Axes>"
            ]
          },
          "metadata": {
            "tags": [],
            "needs_background": "light"
          }
        }
      ]
    },
    {
      "cell_type": "code",
      "metadata": {
        "id": "kVO6DgTQ7qTm"
      },
      "source": [
        "def RgbToQuaternion(img):\r\n",
        "    b,g,r = cv2.split(img)\r\n",
        "    M=np.zeros((75,75,4))\r\n",
        "    M[:,:,1]=r\r\n",
        "    M[:,:,2]=g\r\n",
        "    M[:,:,3]=b\r\n",
        "    return(np.array(M))"
      ],
      "execution_count": null,
      "outputs": []
    },
    {
      "cell_type": "code",
      "metadata": {
        "id": "dCROIQp37qV_"
      },
      "source": [
        "def load_train_data(file,label):\r\n",
        "      img = cv2.imread(file)\r\n",
        "      pixels = cv2.resize(img, (75,75), interpolation=cv2.INTER_CUBIC)\r\n",
        "      pixels = RgbToQuaternion(pixels) /255.\r\n",
        "      X_train.append(pixels)\r\n",
        "      y_train.append(label)\r\n",
        "\r\n",
        "def load_test_data(file,label):\r\n",
        "      img = cv2.imread(file)\r\n",
        "      pixels = cv2.resize(img, (75,75), interpolation=cv2.INTER_CUBIC)\r\n",
        "      pixels = RgbToQuaternion(pixels) /255.\r\n",
        "      x_test.append(pixels)\r\n",
        "      y_test.append(label)\r\n",
        "\r\n",
        "def load_val_data(file,label):\r\n",
        "      img = cv2.imread(file)\r\n",
        "      pixels = cv2.resize(img, (75,75), interpolation=cv2.INTER_CUBIC)\r\n",
        "      pixels = RgbToQuaternion(pixels) /255.\r\n",
        "      x_val.append(pixels)\r\n",
        "      y_val.append(label)"
      ],
      "execution_count": null,
      "outputs": []
    },
    {
      "cell_type": "code",
      "metadata": {
        "colab": {
          "base_uri": "https://localhost:8080/"
        },
        "id": "3PdGb44C7qZd",
        "outputId": "abf02425-bd3b-4c9e-b542-8d98bd71b211"
      },
      "source": [
        "X_train = []\r\n",
        "x_test = []\r\n",
        "y_train = []\r\n",
        "y_test = []\r\n",
        "x_val = []\r\n",
        "y_val = []\r\n",
        "\r\n",
        "for i in tqdm(range(len(train))):\r\n",
        "  load_train_data(train[i],train_labels[i])\r\n",
        "\r\n",
        "for i in tqdm(range(len(test))):\r\n",
        "  load_test_data(test[i],test_labels[i])\r\n",
        "\r\n",
        "for i in tqdm(range(len(val))):\r\n",
        "  load_val_data(val[i],val_labels[i])"
      ],
      "execution_count": null,
      "outputs": [
        {
          "output_type": "stream",
          "text": [
            "100%|██████████| 376/376 [01:57<00:00,  3.20it/s]\n",
            "100%|██████████| 118/118 [00:34<00:00,  3.44it/s]\n",
            "100%|██████████| 94/94 [00:29<00:00,  3.16it/s]\n"
          ],
          "name": "stderr"
        }
      ]
    },
    {
      "cell_type": "code",
      "metadata": {
        "id": "33sOtXt_7qbR"
      },
      "source": [
        "X_train = np.stack(X_train)\r\n",
        "x_test = np.stack(x_test)\r\n",
        "x_val = np.stack(x_val)"
      ],
      "execution_count": null,
      "outputs": []
    },
    {
      "cell_type": "code",
      "metadata": {
        "id": "9JhMIQfaAynM"
      },
      "source": [
        "import keras\r\n",
        "y_train = keras.utils.to_categorical(y_train)\r\n",
        "y_test = keras.utils.to_categorical(y_test)\r\n",
        "y_val = keras.utils.to_categorical(y_val)"
      ],
      "execution_count": null,
      "outputs": []
    },
    {
      "cell_type": "code",
      "metadata": {
        "colab": {
          "base_uri": "https://localhost:8080/"
        },
        "id": "p4_fUBexBVxC",
        "outputId": "dc50ab24-5eb5-4d78-cdf2-3c59c7202fd5"
      },
      "source": [
        "y_train.shape"
      ],
      "execution_count": null,
      "outputs": [
        {
          "output_type": "execute_result",
          "data": {
            "text/plain": [
              "(376, 3)"
            ]
          },
          "metadata": {
            "tags": []
          },
          "execution_count": 20
        }
      ]
    },
    {
      "cell_type": "code",
      "metadata": {
        "id": "gFkEv0_0_nRA"
      },
      "source": [
        "def residual_block(mod_, f_in, f_out, strides_ = (1,1), use_shortcut_ = False):   \r\n",
        "    shortcut_ = mod_\r\n",
        "    \r\n",
        "    k_ = (1,1)\r\n",
        "    \r\n",
        "    mod_ = QuaternionConv2D(f_in, kernel_size=k_, strides=(1,1), padding = \"same\")(mod_)\r\n",
        "    mod_ = BatchNormalization()(mod_)\r\n",
        "    mod_ = ELU()(mod_)\r\n",
        "    \r\n",
        "    mod_ = QuaternionConv2D(f_in, kernel_size=k_, strides=strides_, padding = \"same\")(mod_)\r\n",
        "    mod_ = BatchNormalization()(mod_)\r\n",
        "    mod_ = ELU()(mod_)\r\n",
        "    \r\n",
        "    mod_ = QuaternionConv2D(f_out, kernel_size=k_, strides=(1,1), padding = \"same\")(mod_)\r\n",
        "    mod_ = BatchNormalization()(mod_)\r\n",
        "    mod_ = ELU()(mod_)\r\n",
        "    \r\n",
        "    if use_shortcut_ == True or strides_ != (1,1):\r\n",
        "        shortcut_ = QuaternionConv2D(f_out, kernel_size=k_, strides=strides_, padding = \"same\")(shortcut_)\r\n",
        "        shortcut_ = BatchNormalization()(shortcut_)\r\n",
        "        \r\n",
        "    mod_ = Add()([shortcut_, mod_])\r\n",
        "    mod_ = ReLU()(mod_)\r\n",
        "    \r\n",
        "    return mod_"
      ],
      "execution_count": null,
      "outputs": []
    },
    {
      "cell_type": "code",
      "metadata": {
        "id": "tH4rb3Id_nTs"
      },
      "source": [
        "def model_build(in_):\r\n",
        "    \r\n",
        "    k_=(1,1)\r\n",
        "    \r\n",
        "    mod_ = QuaternionConv2D(16, kernel_size=k_, strides = (1,1), padding = \"same\")(in_)\r\n",
        "    \r\n",
        "    mod_ = BatchNormalization()(mod_)\r\n",
        "    \r\n",
        "    mod_ = ReLU()(mod_)\r\n",
        "    \r\n",
        "    mod_ = MaxPooling2D()(mod_)\r\n",
        "    \r\n",
        "    mod_ = residual_block(mod_, 16, 32, use_shortcut_=True)\r\n",
        "    \r\n",
        "    mod_ = MaxPooling2D()(mod_)\r\n",
        "    \r\n",
        "    mod_ = residual_block(mod_, 32, 64, use_shortcut_=True)\r\n",
        "    \r\n",
        "    mod_ = MaxPooling2D()(mod_)\r\n",
        "    \r\n",
        "    mod_ = residual_block(mod_, 64, 96, use_shortcut_=True)\r\n",
        "    \r\n",
        "    mod_ = MaxPooling2D()(mod_)\r\n",
        "    \r\n",
        "    mod_ = residual_block(mod_, 96, 128, use_shortcut_=True)\r\n",
        "    \r\n",
        "    mod_ = MaxPooling2D()(mod_)\r\n",
        "    \r\n",
        "    mod_ = GlobalAveragePooling2D()(mod_)\r\n",
        "    \r\n",
        "    mod_ = Dense(512, activation = \"relu\")(mod_)\r\n",
        "    \r\n",
        "    mod_ = Dropout(0.5)(mod_)\r\n",
        "    \r\n",
        "    mod_ = Dense(3, activation=\"sigmoid\")(mod_)\r\n",
        "    \r\n",
        "    return mod_"
      ],
      "execution_count": null,
      "outputs": []
    },
    {
      "cell_type": "code",
      "metadata": {
        "id": "VhihYXL2_nVz"
      },
      "source": [
        "from keras import backend as K\r\n",
        "\r\n",
        "def mcor(y_true, y_pred):\r\n",
        "     #matthews_correlation\r\n",
        "     y_pred_pos = K.round(K.clip(y_pred, 0, 1))\r\n",
        "     y_pred_neg = 1 - y_pred_pos\r\n",
        " \r\n",
        " \r\n",
        "     y_pos = K.round(K.clip(y_true, 0, 1))\r\n",
        "     y_neg = 1 - y_pos\r\n",
        " \r\n",
        " \r\n",
        "     tp = K.sum(y_pos * y_pred_pos)\r\n",
        "     tn = K.sum(y_neg * y_pred_neg)\r\n",
        " \r\n",
        " \r\n",
        "     fp = K.sum(y_neg * y_pred_pos)\r\n",
        "     fn = K.sum(y_pos * y_pred_neg)\r\n",
        " \r\n",
        " \r\n",
        "     numerator = (tp * tn - fp * fn)\r\n",
        "     denominator = K.sqrt((tp + fp) * (tp + fn) * (tn + fp) * (tn + fn))\r\n",
        " \r\n",
        " \r\n",
        "     return numerator / (denominator + K.epsilon())\r\n",
        "\r\n",
        "\r\n",
        "\r\n",
        "\r\n",
        "def precision(y_true, y_pred):\r\n",
        "    \"\"\"Precision metric.\r\n",
        "\r\n",
        "    Only computes a batch-wise average of precision.\r\n",
        "\r\n",
        "    Computes the precision, a metric for multi-label classification of\r\n",
        "    how many selected items are relevant.\r\n",
        "    \"\"\"\r\n",
        "    true_positives = K.sum(K.round(K.clip(y_true * y_pred, 0, 1)))\r\n",
        "    predicted_positives = K.sum(K.round(K.clip(y_pred, 0, 1)))\r\n",
        "    precision = true_positives / (predicted_positives + K.epsilon())\r\n",
        "    return precision\r\n",
        "\r\n",
        "def recall(y_true, y_pred):\r\n",
        "    \"\"\"Recall metric.\r\n",
        "\r\n",
        "    Only computes a batch-wise average of recall.\r\n",
        "\r\n",
        "    Computes the recall, a metric for multi-label classification of\r\n",
        "    how many relevant items are selected.\r\n",
        "    \"\"\"\r\n",
        "    true_positives = K.sum(K.round(K.clip(y_true * y_pred, 0, 1)))\r\n",
        "    possible_positives = K.sum(K.round(K.clip(y_true, 0, 1)))\r\n",
        "    recall = true_positives / (possible_positives + K.epsilon())\r\n",
        "    return recall\r\n",
        "\r\n",
        "\r\n",
        "def f1(y_true, y_pred):\r\n",
        "    def recall(y_true, y_pred):\r\n",
        "        \"\"\"Recall metric.\r\n",
        "\r\n",
        "        Only computes a batch-wise average of recall.\r\n",
        "\r\n",
        "        Computes the recall, a metric for multi-label classification of\r\n",
        "        how many relevant items are selected.\r\n",
        "        \"\"\"\r\n",
        "        true_positives = K.sum(K.round(K.clip(y_true * y_pred, 0, 1)))\r\n",
        "        possible_positives = K.sum(K.round(K.clip(y_true, 0, 1)))\r\n",
        "        recall = true_positives / (possible_positives + K.epsilon())\r\n",
        "        return recall\r\n",
        "\r\n",
        "    def precision(y_true, y_pred):\r\n",
        "        \"\"\"Precision metric.\r\n",
        "\r\n",
        "        Only computes a batch-wise average of precision.\r\n",
        "\r\n",
        "        Computes the precision, a metric for multi-label classification of\r\n",
        "        how many selected items are relevant.\r\n",
        "        \"\"\"\r\n",
        "        true_positives = K.sum(K.round(K.clip(y_true * y_pred, 0, 1)))\r\n",
        "        predicted_positives = K.sum(K.round(K.clip(y_pred, 0, 1)))\r\n",
        "        precision = true_positives / (predicted_positives + K.epsilon())\r\n",
        "        return precision\r\n",
        "    precision = precision(y_true, y_pred)\r\n",
        "    recall = recall(y_true, y_pred)\r\n",
        "    return 2*((precision*recall)/(precision+recall+K.epsilon()))"
      ],
      "execution_count": null,
      "outputs": []
    },
    {
      "cell_type": "code",
      "metadata": {
        "id": "DWXPFb6y_nYn"
      },
      "source": [
        "in_ = Input((75,75,4))\r\n",
        "model_ = model_build(in_)"
      ],
      "execution_count": null,
      "outputs": []
    },
    {
      "cell_type": "code",
      "metadata": {
        "colab": {
          "base_uri": "https://localhost:8080/"
        },
        "id": "mNEvFSMP_nbF",
        "outputId": "e68f6047-1d3e-4408-ebb5-7c2178502112"
      },
      "source": [
        "model = Model(input = in_, output = model_)\r\n",
        "model.summary()"
      ],
      "execution_count": null,
      "outputs": [
        {
          "output_type": "stream",
          "text": [
            "__________________________________________________________________________________________________\n",
            "Layer (type)                    Output Shape         Param #     Connected to                     \n",
            "==================================================================================================\n",
            "input_1 (InputLayer)            (None, 75, 75, 4)    0                                            \n",
            "__________________________________________________________________________________________________\n",
            "quaternion_conv2d_1 (Quaternion (None, 75, 75, 64)   128         input_1[0][0]                    \n",
            "__________________________________________________________________________________________________\n",
            "batch_normalization_1 (BatchNor (None, 75, 75, 64)   256         quaternion_conv2d_1[0][0]        \n",
            "__________________________________________________________________________________________________\n",
            "re_lu_1 (ReLU)                  (None, 75, 75, 64)   0           batch_normalization_1[0][0]      \n",
            "__________________________________________________________________________________________________\n",
            "max_pooling2d_1 (MaxPooling2D)  (None, 37, 37, 64)   0           re_lu_1[0][0]                    \n",
            "__________________________________________________________________________________________________\n",
            "quaternion_conv2d_2 (Quaternion (None, 37, 37, 64)   1088        max_pooling2d_1[0][0]            \n",
            "__________________________________________________________________________________________________\n",
            "batch_normalization_2 (BatchNor (None, 37, 37, 64)   256         quaternion_conv2d_2[0][0]        \n",
            "__________________________________________________________________________________________________\n",
            "elu_1 (ELU)                     (None, 37, 37, 64)   0           batch_normalization_2[0][0]      \n",
            "__________________________________________________________________________________________________\n",
            "quaternion_conv2d_3 (Quaternion (None, 37, 37, 64)   1088        elu_1[0][0]                      \n",
            "__________________________________________________________________________________________________\n",
            "batch_normalization_3 (BatchNor (None, 37, 37, 64)   256         quaternion_conv2d_3[0][0]        \n",
            "__________________________________________________________________________________________________\n",
            "elu_2 (ELU)                     (None, 37, 37, 64)   0           batch_normalization_3[0][0]      \n",
            "__________________________________________________________________________________________________\n",
            "quaternion_conv2d_4 (Quaternion (None, 37, 37, 128)  2176        elu_2[0][0]                      \n",
            "__________________________________________________________________________________________________\n",
            "quaternion_conv2d_5 (Quaternion (None, 37, 37, 128)  2176        max_pooling2d_1[0][0]            \n",
            "__________________________________________________________________________________________________\n",
            "batch_normalization_4 (BatchNor (None, 37, 37, 128)  512         quaternion_conv2d_4[0][0]        \n",
            "__________________________________________________________________________________________________\n",
            "batch_normalization_5 (BatchNor (None, 37, 37, 128)  512         quaternion_conv2d_5[0][0]        \n",
            "__________________________________________________________________________________________________\n",
            "elu_3 (ELU)                     (None, 37, 37, 128)  0           batch_normalization_4[0][0]      \n",
            "__________________________________________________________________________________________________\n",
            "add_1 (Add)                     (None, 37, 37, 128)  0           batch_normalization_5[0][0]      \n",
            "                                                                 elu_3[0][0]                      \n",
            "__________________________________________________________________________________________________\n",
            "re_lu_2 (ReLU)                  (None, 37, 37, 128)  0           add_1[0][0]                      \n",
            "__________________________________________________________________________________________________\n",
            "max_pooling2d_2 (MaxPooling2D)  (None, 18, 18, 128)  0           re_lu_2[0][0]                    \n",
            "__________________________________________________________________________________________________\n",
            "quaternion_conv2d_6 (Quaternion (None, 18, 18, 128)  4224        max_pooling2d_2[0][0]            \n",
            "__________________________________________________________________________________________________\n",
            "batch_normalization_6 (BatchNor (None, 18, 18, 128)  512         quaternion_conv2d_6[0][0]        \n",
            "__________________________________________________________________________________________________\n",
            "elu_4 (ELU)                     (None, 18, 18, 128)  0           batch_normalization_6[0][0]      \n",
            "__________________________________________________________________________________________________\n",
            "quaternion_conv2d_7 (Quaternion (None, 18, 18, 128)  4224        elu_4[0][0]                      \n",
            "__________________________________________________________________________________________________\n",
            "batch_normalization_7 (BatchNor (None, 18, 18, 128)  512         quaternion_conv2d_7[0][0]        \n",
            "__________________________________________________________________________________________________\n",
            "elu_5 (ELU)                     (None, 18, 18, 128)  0           batch_normalization_7[0][0]      \n",
            "__________________________________________________________________________________________________\n",
            "quaternion_conv2d_8 (Quaternion (None, 18, 18, 256)  8448        elu_5[0][0]                      \n",
            "__________________________________________________________________________________________________\n",
            "quaternion_conv2d_9 (Quaternion (None, 18, 18, 256)  8448        max_pooling2d_2[0][0]            \n",
            "__________________________________________________________________________________________________\n",
            "batch_normalization_8 (BatchNor (None, 18, 18, 256)  1024        quaternion_conv2d_8[0][0]        \n",
            "__________________________________________________________________________________________________\n",
            "batch_normalization_9 (BatchNor (None, 18, 18, 256)  1024        quaternion_conv2d_9[0][0]        \n",
            "__________________________________________________________________________________________________\n",
            "elu_6 (ELU)                     (None, 18, 18, 256)  0           batch_normalization_8[0][0]      \n",
            "__________________________________________________________________________________________________\n",
            "add_2 (Add)                     (None, 18, 18, 256)  0           batch_normalization_9[0][0]      \n",
            "                                                                 elu_6[0][0]                      \n",
            "__________________________________________________________________________________________________\n",
            "re_lu_3 (ReLU)                  (None, 18, 18, 256)  0           add_2[0][0]                      \n",
            "__________________________________________________________________________________________________\n",
            "max_pooling2d_3 (MaxPooling2D)  (None, 9, 9, 256)    0           re_lu_3[0][0]                    \n",
            "__________________________________________________________________________________________________\n",
            "quaternion_conv2d_10 (Quaternio (None, 9, 9, 256)    16640       max_pooling2d_3[0][0]            \n",
            "__________________________________________________________________________________________________\n",
            "batch_normalization_10 (BatchNo (None, 9, 9, 256)    1024        quaternion_conv2d_10[0][0]       \n",
            "__________________________________________________________________________________________________\n",
            "elu_7 (ELU)                     (None, 9, 9, 256)    0           batch_normalization_10[0][0]     \n",
            "__________________________________________________________________________________________________\n",
            "quaternion_conv2d_11 (Quaternio (None, 9, 9, 256)    16640       elu_7[0][0]                      \n",
            "__________________________________________________________________________________________________\n",
            "batch_normalization_11 (BatchNo (None, 9, 9, 256)    1024        quaternion_conv2d_11[0][0]       \n",
            "__________________________________________________________________________________________________\n",
            "elu_8 (ELU)                     (None, 9, 9, 256)    0           batch_normalization_11[0][0]     \n",
            "__________________________________________________________________________________________________\n",
            "quaternion_conv2d_12 (Quaternio (None, 9, 9, 384)    24960       elu_8[0][0]                      \n",
            "__________________________________________________________________________________________________\n",
            "quaternion_conv2d_13 (Quaternio (None, 9, 9, 384)    24960       max_pooling2d_3[0][0]            \n",
            "__________________________________________________________________________________________________\n",
            "batch_normalization_12 (BatchNo (None, 9, 9, 384)    1536        quaternion_conv2d_12[0][0]       \n",
            "__________________________________________________________________________________________________\n",
            "batch_normalization_13 (BatchNo (None, 9, 9, 384)    1536        quaternion_conv2d_13[0][0]       \n",
            "__________________________________________________________________________________________________\n",
            "elu_9 (ELU)                     (None, 9, 9, 384)    0           batch_normalization_12[0][0]     \n",
            "__________________________________________________________________________________________________\n",
            "add_3 (Add)                     (None, 9, 9, 384)    0           batch_normalization_13[0][0]     \n",
            "                                                                 elu_9[0][0]                      \n",
            "__________________________________________________________________________________________________\n",
            "re_lu_4 (ReLU)                  (None, 9, 9, 384)    0           add_3[0][0]                      \n",
            "__________________________________________________________________________________________________\n",
            "max_pooling2d_4 (MaxPooling2D)  (None, 4, 4, 384)    0           re_lu_4[0][0]                    \n",
            "__________________________________________________________________________________________________\n",
            "quaternion_conv2d_14 (Quaternio (None, 4, 4, 384)    37248       max_pooling2d_4[0][0]            \n",
            "__________________________________________________________________________________________________\n",
            "batch_normalization_14 (BatchNo (None, 4, 4, 384)    1536        quaternion_conv2d_14[0][0]       \n",
            "__________________________________________________________________________________________________\n",
            "elu_10 (ELU)                    (None, 4, 4, 384)    0           batch_normalization_14[0][0]     \n",
            "__________________________________________________________________________________________________\n",
            "quaternion_conv2d_15 (Quaternio (None, 4, 4, 384)    37248       elu_10[0][0]                     \n",
            "__________________________________________________________________________________________________\n",
            "batch_normalization_15 (BatchNo (None, 4, 4, 384)    1536        quaternion_conv2d_15[0][0]       \n",
            "__________________________________________________________________________________________________\n",
            "elu_11 (ELU)                    (None, 4, 4, 384)    0           batch_normalization_15[0][0]     \n",
            "__________________________________________________________________________________________________\n",
            "quaternion_conv2d_16 (Quaternio (None, 4, 4, 512)    49664       elu_11[0][0]                     \n",
            "__________________________________________________________________________________________________\n",
            "quaternion_conv2d_17 (Quaternio (None, 4, 4, 512)    49664       max_pooling2d_4[0][0]            \n",
            "__________________________________________________________________________________________________\n",
            "batch_normalization_16 (BatchNo (None, 4, 4, 512)    2048        quaternion_conv2d_16[0][0]       \n",
            "__________________________________________________________________________________________________\n",
            "batch_normalization_17 (BatchNo (None, 4, 4, 512)    2048        quaternion_conv2d_17[0][0]       \n",
            "__________________________________________________________________________________________________\n",
            "elu_12 (ELU)                    (None, 4, 4, 512)    0           batch_normalization_16[0][0]     \n",
            "__________________________________________________________________________________________________\n",
            "add_4 (Add)                     (None, 4, 4, 512)    0           batch_normalization_17[0][0]     \n",
            "                                                                 elu_12[0][0]                     \n",
            "__________________________________________________________________________________________________\n",
            "re_lu_5 (ReLU)                  (None, 4, 4, 512)    0           add_4[0][0]                      \n",
            "__________________________________________________________________________________________________\n",
            "max_pooling2d_5 (MaxPooling2D)  (None, 2, 2, 512)    0           re_lu_5[0][0]                    \n",
            "__________________________________________________________________________________________________\n",
            "global_average_pooling2d_1 (Glo (None, 512)          0           max_pooling2d_5[0][0]            \n",
            "__________________________________________________________________________________________________\n",
            "dense_1 (Dense)                 (None, 512)          262656      global_average_pooling2d_1[0][0] \n",
            "__________________________________________________________________________________________________\n",
            "dropout_1 (Dropout)             (None, 512)          0           dense_1[0][0]                    \n",
            "__________________________________________________________________________________________________\n",
            "dense_2 (Dense)                 (None, 3)            1539        dropout_1[0][0]                  \n",
            "==================================================================================================\n",
            "Total params: 570,371\n",
            "Trainable params: 561,795\n",
            "Non-trainable params: 8,576\n",
            "__________________________________________________________________________________________________\n"
          ],
          "name": "stdout"
        },
        {
          "output_type": "stream",
          "text": [
            "/usr/local/lib/python3.6/dist-packages/ipykernel_launcher.py:1: UserWarning: Update your `Model` call to the Keras 2 API: `Model(inputs=Tensor(\"in..., outputs=Tensor(\"de...)`\n",
            "  \"\"\"Entry point for launching an IPython kernel.\n"
          ],
          "name": "stderr"
        }
      ]
    },
    {
      "cell_type": "code",
      "metadata": {
        "id": "lcsD2ph__ndx"
      },
      "source": [
        "model.compile(optimizer='adam', loss='binary_crossentropy', metrics=['accuracy',mcor,precision,recall,f1])"
      ],
      "execution_count": null,
      "outputs": []
    },
    {
      "cell_type": "code",
      "metadata": {
        "id": "ui9NXU44Roqg"
      },
      "source": [
        "from keras.preprocessing.image import ImageDataGenerator\r\n",
        "datagen = ImageDataGenerator(\r\n",
        "    rotation_range=0.2,\r\n",
        "    width_shift_range=0.2,\r\n",
        "    height_shift_range=0.2,\r\n",
        "    shear_range=0.2,\r\n",
        "    zoom_range=0.2,\r\n",
        "    horizontal_flip=True,\r\n",
        "    vertical_flip=True,\r\n",
        ")\r\n",
        "train_generator = datagen.flow(X_train,y_train, batch_size=64)\r\n",
        "val_generator = datagen.flow(x_val,y_val, batch_size=64)"
      ],
      "execution_count": null,
      "outputs": []
    },
    {
      "cell_type": "code",
      "metadata": {
        "colab": {
          "base_uri": "https://localhost:8080/"
        },
        "id": "WOtZmdG3_ngA",
        "outputId": "af80e02f-f55d-4bb0-9f1a-4885041b0c08"
      },
      "source": [
        "# history = model.fit(X_train,y_train,     \r\n",
        "#                    epochs=18,batch_size=128,       \r\n",
        "#                    validation_data=(x_val,y_val))  \r\n",
        "\r\n",
        "history = model.fit_generator(train_generator,     \r\n",
        "                   epochs=60,      \r\n",
        "                   validation_data=val_generator)  "
      ],
      "execution_count": null,
      "outputs": [
        {
          "output_type": "stream",
          "text": [
            "Epoch 1/60\n",
            "6/6 [==============================] - 78s 13s/step - loss: 0.9442 - acc: 0.6362 - mcor: 0.1694 - precision: 0.4858 - recall: 0.3893 - f1: 0.4148 - val_loss: 1.6841 - val_acc: 0.5355 - val_mcor: -0.0479 - val_precision: 0.3012 - val_recall: 0.2979 - val_f1: 0.2995\n",
            "Epoch 2/60\n",
            "6/6 [==============================] - 71s 12s/step - loss: 0.5474 - acc: 0.7378 - mcor: 0.4233 - precision: 0.6066 - recall: 0.6358 - f1: 0.6133 - val_loss: 1.9804 - val_acc: 0.5355 - val_mcor: -0.0481 - val_precision: 0.3009 - val_recall: 0.2979 - val_f1: 0.2994\n",
            "Epoch 3/60\n",
            "6/6 [==============================] - 71s 12s/step - loss: 0.5003 - acc: 0.7795 - mcor: 0.4951 - precision: 0.7075 - recall: 0.6021 - f1: 0.6430 - val_loss: 2.2380 - val_acc: 0.5390 - val_mcor: -0.0428 - val_precision: 0.3044 - val_recall: 0.2979 - val_f1: 0.3011\n",
            "Epoch 4/60\n",
            "6/6 [==============================] - 72s 12s/step - loss: 0.4448 - acc: 0.7978 - mcor: 0.5392 - precision: 0.7215 - recall: 0.6531 - f1: 0.6818 - val_loss: 2.1541 - val_acc: 0.5390 - val_mcor: -0.0372 - val_precision: 0.3085 - val_recall: 0.3085 - val_f1: 0.3085\n",
            "Epoch 5/60\n",
            "6/6 [==============================] - 76s 13s/step - loss: 0.3932 - acc: 0.8189 - mcor: 0.5866 - precision: 0.7563 - recall: 0.6824 - f1: 0.7138 - val_loss: 1.3697 - val_acc: 0.5390 - val_mcor: -0.0372 - val_precision: 0.3085 - val_recall: 0.3085 - val_f1: 0.3085\n",
            "Epoch 6/60\n",
            "6/6 [==============================] - 73s 12s/step - loss: 0.3743 - acc: 0.8409 - mcor: 0.6357 - precision: 0.7832 - recall: 0.7216 - f1: 0.7509 - val_loss: 1.5200 - val_acc: 0.5390 - val_mcor: -0.0372 - val_precision: 0.3085 - val_recall: 0.3085 - val_f1: 0.3085\n",
            "Epoch 7/60\n",
            "6/6 [==============================] - 71s 12s/step - loss: 0.3771 - acc: 0.8405 - mcor: 0.6343 - precision: 0.7878 - recall: 0.7138 - f1: 0.7487 - val_loss: 0.5437 - val_acc: 0.7128 - val_mcor: 0.3242 - val_precision: 0.5885 - val_recall: 0.4681 - val_f1: 0.5210\n",
            "Epoch 8/60\n",
            "6/6 [==============================] - 71s 12s/step - loss: 0.4076 - acc: 0.8265 - mcor: 0.6088 - precision: 0.7441 - recall: 0.7331 - f1: 0.7384 - val_loss: 0.6743 - val_acc: 0.7199 - val_mcor: 0.3371 - val_precision: 0.6106 - val_recall: 0.4574 - val_f1: 0.5219\n",
            "Epoch 9/60\n",
            "6/6 [==============================] - 71s 12s/step - loss: 0.3746 - acc: 0.8400 - mcor: 0.6310 - precision: 0.8006 - recall: 0.6925 - f1: 0.7420 - val_loss: 0.4671 - val_acc: 0.7872 - val_mcor: 0.4961 - val_precision: 0.7447 - val_recall: 0.5426 - val_f1: 0.6274\n",
            "Epoch 10/60\n",
            "6/6 [==============================] - 71s 12s/step - loss: 0.3514 - acc: 0.8450 - mcor: 0.6480 - precision: 0.7810 - recall: 0.7448 - f1: 0.7622 - val_loss: 0.4472 - val_acc: 0.7801 - val_mcor: 0.4893 - val_precision: 0.6994 - val_recall: 0.5957 - val_f1: 0.6434\n",
            "Epoch 11/60\n",
            "6/6 [==============================] - 71s 12s/step - loss: 0.3145 - acc: 0.8663 - mcor: 0.6951 - precision: 0.8228 - recall: 0.7640 - f1: 0.7919 - val_loss: 0.5447 - val_acc: 0.7057 - val_mcor: 0.2789 - val_precision: 0.5728 - val_recall: 0.3830 - val_f1: 0.4538\n",
            "Epoch 12/60\n",
            "6/6 [==============================] - 73s 12s/step - loss: 0.3335 - acc: 0.8660 - mcor: 0.6958 - precision: 0.8154 - recall: 0.7748 - f1: 0.7942 - val_loss: 0.6045 - val_acc: 0.6667 - val_mcor: 0.2183 - val_precision: 0.4992 - val_recall: 0.4149 - val_f1: 0.4528\n",
            "Epoch 13/60\n",
            "6/6 [==============================] - 76s 13s/step - loss: 0.3021 - acc: 0.8774 - mcor: 0.7231 - precision: 0.8238 - recall: 0.8054 - f1: 0.8143 - val_loss: 0.4997 - val_acc: 0.7057 - val_mcor: 0.3086 - val_precision: 0.5785 - val_recall: 0.4574 - val_f1: 0.5081\n",
            "Epoch 14/60\n",
            "6/6 [==============================] - 73s 12s/step - loss: 0.2873 - acc: 0.8739 - mcor: 0.7114 - precision: 0.8440 - recall: 0.7627 - f1: 0.8003 - val_loss: 0.4634 - val_acc: 0.7872 - val_mcor: 0.5080 - val_precision: 0.7073 - val_recall: 0.6170 - val_f1: 0.6591\n",
            "Epoch 15/60\n",
            "6/6 [==============================] - 72s 12s/step - loss: 0.3129 - acc: 0.8760 - mcor: 0.7183 - precision: 0.8266 - recall: 0.7940 - f1: 0.8099 - val_loss: 0.4420 - val_acc: 0.8085 - val_mcor: 0.5557 - val_precision: 0.7483 - val_recall: 0.6383 - val_f1: 0.6882\n",
            "Epoch 16/60\n",
            "6/6 [==============================] - 73s 12s/step - loss: 0.3499 - acc: 0.8542 - mcor: 0.6682 - precision: 0.7992 - recall: 0.7526 - f1: 0.7748 - val_loss: 0.5152 - val_acc: 0.7872 - val_mcor: 0.5067 - val_precision: 0.7231 - val_recall: 0.5957 - val_f1: 0.6522\n",
            "Epoch 17/60\n",
            "6/6 [==============================] - 72s 12s/step - loss: 0.3612 - acc: 0.8351 - mcor: 0.6246 - precision: 0.7741 - recall: 0.7180 - f1: 0.7440 - val_loss: 0.4436 - val_acc: 0.7766 - val_mcor: 0.4777 - val_precision: 0.7091 - val_recall: 0.5638 - val_f1: 0.6277\n",
            "Epoch 18/60\n",
            "6/6 [==============================] - 73s 12s/step - loss: 0.3236 - acc: 0.8628 - mcor: 0.6895 - precision: 0.8086 - recall: 0.7741 - f1: 0.7902 - val_loss: 0.4515 - val_acc: 0.8156 - val_mcor: 0.5830 - val_precision: 0.7282 - val_recall: 0.7128 - val_f1: 0.7204\n",
            "Epoch 19/60\n",
            "6/6 [==============================] - 71s 12s/step - loss: 0.3231 - acc: 0.8553 - mcor: 0.6718 - precision: 0.7937 - recall: 0.7644 - f1: 0.7783 - val_loss: 0.4945 - val_acc: 0.7837 - val_mcor: 0.5011 - val_precision: 0.6998 - val_recall: 0.6170 - val_f1: 0.6558\n",
            "Epoch 20/60\n",
            "6/6 [==============================] - 71s 12s/step - loss: 0.3038 - acc: 0.8694 - mcor: 0.7018 - precision: 0.8277 - recall: 0.7680 - f1: 0.7964 - val_loss: 0.6646 - val_acc: 0.6738 - val_mcor: 0.2582 - val_precision: 0.5111 - val_recall: 0.4894 - val_f1: 0.5000\n",
            "Epoch 21/60\n",
            "6/6 [==============================] - 71s 12s/step - loss: 0.2820 - acc: 0.8823 - mcor: 0.7347 - precision: 0.8290 - recall: 0.8163 - f1: 0.8222 - val_loss: 0.5588 - val_acc: 0.7801 - val_mcor: 0.4959 - val_precision: 0.6867 - val_recall: 0.6277 - val_f1: 0.6559\n",
            "Epoch 22/60\n",
            "6/6 [==============================] - 74s 12s/step - loss: 0.3041 - acc: 0.8796 - mcor: 0.7269 - precision: 0.8376 - recall: 0.7944 - f1: 0.8146 - val_loss: 0.5711 - val_acc: 0.7163 - val_mcor: 0.3277 - val_precision: 0.5971 - val_recall: 0.4574 - val_f1: 0.5180\n",
            "Epoch 23/60\n",
            "6/6 [==============================] - 71s 12s/step - loss: 0.2768 - acc: 0.8829 - mcor: 0.7358 - precision: 0.8422 - recall: 0.8026 - f1: 0.8199 - val_loss: 0.6413 - val_acc: 0.6560 - val_mcor: 0.1955 - val_precision: 0.4812 - val_recall: 0.4043 - val_f1: 0.4394\n",
            "Epoch 24/60\n",
            "6/6 [==============================] - 71s 12s/step - loss: 0.3305 - acc: 0.8663 - mcor: 0.6968 - precision: 0.8128 - recall: 0.7794 - f1: 0.7955 - val_loss: 0.5177 - val_acc: 0.7447 - val_mcor: 0.3959 - val_precision: 0.6507 - val_recall: 0.5000 - val_f1: 0.5653\n",
            "Epoch 25/60\n",
            "6/6 [==============================] - 71s 12s/step - loss: 0.2956 - acc: 0.8799 - mcor: 0.7258 - precision: 0.8495 - recall: 0.7781 - f1: 0.8118 - val_loss: 0.5073 - val_acc: 0.7518 - val_mcor: 0.4028 - val_precision: 0.6867 - val_recall: 0.4574 - val_f1: 0.5483\n",
            "Epoch 26/60\n",
            "6/6 [==============================] - 72s 12s/step - loss: 0.2668 - acc: 0.8841 - mcor: 0.7364 - precision: 0.8429 - recall: 0.8012 - f1: 0.8214 - val_loss: 0.5518 - val_acc: 0.7411 - val_mcor: 0.3934 - val_precision: 0.6350 - val_recall: 0.5213 - val_f1: 0.5725\n",
            "Epoch 27/60\n",
            "6/6 [==============================] - 72s 12s/step - loss: 0.2935 - acc: 0.8668 - mcor: 0.6991 - precision: 0.8079 - recall: 0.7885 - f1: 0.7973 - val_loss: 0.3899 - val_acc: 0.8191 - val_mcor: 0.5778 - val_precision: 0.8125 - val_recall: 0.5957 - val_f1: 0.6868\n",
            "Epoch 28/60\n",
            "6/6 [==============================] - 72s 12s/step - loss: 0.3093 - acc: 0.8886 - mcor: 0.7462 - precision: 0.8543 - recall: 0.8022 - f1: 0.8271 - val_loss: 0.4851 - val_acc: 0.8050 - val_mcor: 0.5464 - val_precision: 0.7448 - val_recall: 0.6277 - val_f1: 0.6806\n",
            "Epoch 29/60\n",
            "6/6 [==============================] - 72s 12s/step - loss: 0.2770 - acc: 0.8895 - mcor: 0.7483 - precision: 0.8564 - recall: 0.8032 - f1: 0.8288 - val_loss: 0.5002 - val_acc: 0.7518 - val_mcor: 0.4207 - val_precision: 0.6641 - val_recall: 0.5319 - val_f1: 0.5893\n",
            "Epoch 30/60\n",
            "6/6 [==============================] - 76s 13s/step - loss: 0.3098 - acc: 0.8562 - mcor: 0.6741 - precision: 0.7949 - recall: 0.7666 - f1: 0.7795 - val_loss: 0.8421 - val_acc: 0.6099 - val_mcor: 0.1122 - val_precision: 0.4092 - val_recall: 0.3936 - val_f1: 0.4012\n",
            "Epoch 31/60\n",
            "6/6 [==============================] - 73s 12s/step - loss: 0.2856 - acc: 0.8822 - mcor: 0.7319 - precision: 0.8400 - recall: 0.7980 - f1: 0.8181 - val_loss: 0.6106 - val_acc: 0.6738 - val_mcor: 0.2362 - val_precision: 0.5146 - val_recall: 0.4255 - val_f1: 0.4655\n",
            "Epoch 32/60\n",
            "6/6 [==============================] - 73s 12s/step - loss: 0.2833 - acc: 0.8771 - mcor: 0.7199 - precision: 0.8386 - recall: 0.7823 - f1: 0.8094 - val_loss: 1.3787 - val_acc: 0.5567 - val_mcor: 0.0106 - val_precision: 0.3402 - val_recall: 0.3511 - val_f1: 0.3455\n",
            "Epoch 33/60\n",
            "6/6 [==============================] - 74s 12s/step - loss: 0.2428 - acc: 0.8972 - mcor: 0.7657 - precision: 0.8697 - recall: 0.8129 - f1: 0.8399 - val_loss: 0.8610 - val_acc: 0.6170 - val_mcor: 0.1296 - val_precision: 0.4234 - val_recall: 0.4043 - val_f1: 0.4135\n",
            "Epoch 34/60\n",
            "6/6 [==============================] - 72s 12s/step - loss: 0.2646 - acc: 0.8926 - mcor: 0.7558 - precision: 0.8577 - recall: 0.8126 - f1: 0.8344 - val_loss: 2.0246 - val_acc: 0.5426 - val_mcor: -0.0267 - val_precision: 0.3154 - val_recall: 0.3191 - val_f1: 0.3172\n",
            "Epoch 35/60\n",
            "6/6 [==============================] - 72s 12s/step - loss: 0.2644 - acc: 0.8975 - mcor: 0.7685 - precision: 0.8552 - recall: 0.8345 - f1: 0.8445 - val_loss: 1.4810 - val_acc: 0.5851 - val_mcor: 0.0582 - val_precision: 0.3716 - val_recall: 0.3617 - val_f1: 0.3666\n",
            "Epoch 36/60\n",
            "6/6 [==============================] - 73s 12s/step - loss: 0.2775 - acc: 0.8903 - mcor: 0.7508 - precision: 0.8547 - recall: 0.8091 - f1: 0.8309 - val_loss: 0.6946 - val_acc: 0.7021 - val_mcor: 0.3223 - val_precision: 0.5545 - val_recall: 0.5319 - val_f1: 0.5430\n",
            "Epoch 37/60\n",
            "6/6 [==============================] - 74s 12s/step - loss: 0.2913 - acc: 0.8821 - mcor: 0.7326 - precision: 0.8389 - recall: 0.8012 - f1: 0.8192 - val_loss: 1.2107 - val_acc: 0.5922 - val_mcor: 0.0801 - val_precision: 0.3874 - val_recall: 0.3830 - val_f1: 0.3852\n",
            "Epoch 38/60\n",
            "6/6 [==============================] - 73s 12s/step - loss: 0.2742 - acc: 0.8878 - mcor: 0.7463 - precision: 0.8390 - recall: 0.8208 - f1: 0.8296 - val_loss: 0.6061 - val_acc: 0.7660 - val_mcor: 0.4668 - val_precision: 0.6621 - val_recall: 0.6170 - val_f1: 0.6378\n",
            "Epoch 39/60\n",
            "6/6 [==============================] - 78s 13s/step - loss: 0.2723 - acc: 0.8919 - mcor: 0.7548 - precision: 0.8545 - recall: 0.8153 - f1: 0.8340 - val_loss: 0.5144 - val_acc: 0.7801 - val_mcor: 0.4860 - val_precision: 0.7104 - val_recall: 0.5745 - val_f1: 0.6352\n",
            "Epoch 40/60\n",
            "6/6 [==============================] - 72s 12s/step - loss: 0.2687 - acc: 0.8901 - mcor: 0.7496 - precision: 0.8575 - recall: 0.8035 - f1: 0.8295 - val_loss: 0.5369 - val_acc: 0.8014 - val_mcor: 0.5437 - val_precision: 0.7184 - val_recall: 0.6596 - val_f1: 0.6875\n",
            "Epoch 41/60\n",
            "6/6 [==============================] - 72s 12s/step - loss: 0.2727 - acc: 0.8840 - mcor: 0.7368 - precision: 0.8409 - recall: 0.8048 - f1: 0.8224 - val_loss: 0.3513 - val_acc: 0.8688 - val_mcor: 0.6991 - val_precision: 0.8344 - val_recall: 0.7553 - val_f1: 0.7928\n",
            "Epoch 42/60\n",
            "6/6 [==============================] - 72s 12s/step - loss: 0.2711 - acc: 0.8810 - mcor: 0.7287 - precision: 0.8408 - recall: 0.7921 - f1: 0.8156 - val_loss: 0.5532 - val_acc: 0.7518 - val_mcor: 0.4290 - val_precision: 0.6363 - val_recall: 0.5851 - val_f1: 0.6094\n",
            "Epoch 43/60\n",
            "6/6 [==============================] - 72s 12s/step - loss: 0.2745 - acc: 0.8863 - mcor: 0.7446 - precision: 0.8325 - recall: 0.8270 - f1: 0.8293 - val_loss: 0.7388 - val_acc: 0.6773 - val_mcor: 0.2558 - val_precision: 0.5149 - val_recall: 0.4681 - val_f1: 0.4900\n",
            "Epoch 44/60\n",
            "6/6 [==============================] - 72s 12s/step - loss: 0.2803 - acc: 0.8797 - mcor: 0.7262 - precision: 0.8375 - recall: 0.7927 - f1: 0.8143 - val_loss: 1.4321 - val_acc: 0.5887 - val_mcor: 0.0641 - val_precision: 0.3767 - val_recall: 0.3617 - val_f1: 0.3690\n",
            "Epoch 45/60\n",
            "6/6 [==============================] - 73s 12s/step - loss: 0.2520 - acc: 0.9083 - mcor: 0.7907 - precision: 0.8979 - recall: 0.8175 - f1: 0.8556 - val_loss: 1.1751 - val_acc: 0.6170 - val_mcor: 0.1475 - val_precision: 0.4288 - val_recall: 0.4468 - val_f1: 0.4376\n",
            "Epoch 46/60\n",
            "6/6 [==============================] - 72s 12s/step - loss: 0.2727 - acc: 0.8993 - mcor: 0.7718 - precision: 0.8593 - recall: 0.8342 - f1: 0.8465 - val_loss: 1.3205 - val_acc: 0.6028 - val_mcor: 0.1205 - val_precision: 0.4098 - val_recall: 0.4362 - val_f1: 0.4225\n",
            "Epoch 47/60\n",
            "6/6 [==============================] - 75s 12s/step - loss: 0.2695 - acc: 0.8895 - mcor: 0.7496 - precision: 0.8439 - recall: 0.8196 - f1: 0.8315 - val_loss: 0.4287 - val_acc: 0.8440 - val_mcor: 0.6455 - val_precision: 0.7779 - val_recall: 0.7447 - val_f1: 0.7609\n",
            "Epoch 48/60\n",
            "6/6 [==============================] - 73s 12s/step - loss: 0.2550 - acc: 0.8909 - mcor: 0.7529 - precision: 0.8474 - recall: 0.8205 - f1: 0.8335 - val_loss: 0.3845 - val_acc: 0.8191 - val_mcor: 0.5796 - val_precision: 0.7791 - val_recall: 0.6383 - val_f1: 0.7017\n",
            "Epoch 49/60\n",
            "6/6 [==============================] - 77s 13s/step - loss: 0.2747 - acc: 0.8948 - mcor: 0.7621 - precision: 0.8507 - recall: 0.8303 - f1: 0.8403 - val_loss: 1.2492 - val_acc: 0.6028 - val_mcor: 0.1016 - val_precision: 0.4022 - val_recall: 0.3936 - val_f1: 0.3978\n",
            "Epoch 50/60\n",
            "6/6 [==============================] - 73s 12s/step - loss: 0.2356 - acc: 0.9110 - mcor: 0.7992 - precision: 0.8723 - recall: 0.8590 - f1: 0.8654 - val_loss: 1.2266 - val_acc: 0.6099 - val_mcor: 0.1176 - val_precision: 0.4128 - val_recall: 0.4043 - val_f1: 0.4085\n",
            "Epoch 51/60\n",
            "6/6 [==============================] - 73s 12s/step - loss: 0.2513 - acc: 0.8963 - mcor: 0.7651 - precision: 0.8557 - recall: 0.8286 - f1: 0.8419 - val_loss: 1.8451 - val_acc: 0.5496 - val_mcor: -0.0161 - val_precision: 0.3224 - val_recall: 0.3191 - val_f1: 0.3207\n",
            "Epoch 52/60\n",
            "6/6 [==============================] - 72s 12s/step - loss: 0.2482 - acc: 0.9035 - mcor: 0.7814 - precision: 0.8684 - recall: 0.8378 - f1: 0.8527 - val_loss: 0.8311 - val_acc: 0.6525 - val_mcor: 0.1851 - val_precision: 0.4745 - val_recall: 0.3936 - val_f1: 0.4300\n",
            "Epoch 53/60\n",
            "6/6 [==============================] - 72s 12s/step - loss: 0.2508 - acc: 0.9013 - mcor: 0.7773 - precision: 0.8589 - recall: 0.8430 - f1: 0.8508 - val_loss: 1.8727 - val_acc: 0.5426 - val_mcor: -0.0320 - val_precision: 0.3118 - val_recall: 0.3085 - val_f1: 0.3101\n",
            "Epoch 54/60\n",
            "6/6 [==============================] - 72s 12s/step - loss: 0.2407 - acc: 0.8916 - mcor: 0.7550 - precision: 0.8446 - recall: 0.8270 - f1: 0.8356 - val_loss: 1.6027 - val_acc: 0.5709 - val_mcor: 0.0320 - val_precision: 0.3549 - val_recall: 0.3511 - val_f1: 0.3530\n",
            "Epoch 55/60\n",
            "6/6 [==============================] - 76s 13s/step - loss: 0.2549 - acc: 0.9015 - mcor: 0.7774 - precision: 0.8612 - recall: 0.8404 - f1: 0.8505 - val_loss: 1.0420 - val_acc: 0.6489 - val_mcor: 0.2123 - val_precision: 0.4739 - val_recall: 0.4787 - val_f1: 0.4762\n",
            "Epoch 56/60\n",
            "6/6 [==============================] - 72s 12s/step - loss: 0.2322 - acc: 0.9147 - mcor: 0.8069 - precision: 0.8832 - recall: 0.8574 - f1: 0.8700 - val_loss: 1.0573 - val_acc: 0.6844 - val_mcor: 0.2770 - val_precision: 0.5291 - val_recall: 0.4894 - val_f1: 0.5084\n",
            "Epoch 57/60\n",
            "6/6 [==============================] - 72s 12s/step - loss: 0.2381 - acc: 0.9091 - mcor: 0.7942 - precision: 0.8806 - recall: 0.8427 - f1: 0.8610 - val_loss: 1.2459 - val_acc: 0.6028 - val_mcor: 0.1064 - val_precision: 0.4043 - val_recall: 0.4043 - val_f1: 0.4043\n",
            "Epoch 58/60\n",
            "6/6 [==============================] - 72s 12s/step - loss: 0.2719 - acc: 0.8934 - mcor: 0.7591 - precision: 0.8465 - recall: 0.8303 - f1: 0.8378 - val_loss: 1.0487 - val_acc: 0.5745 - val_mcor: 0.0426 - val_precision: 0.3618 - val_recall: 0.3617 - val_f1: 0.3617\n",
            "Epoch 59/60\n",
            "6/6 [==============================] - 73s 12s/step - loss: 0.2266 - acc: 0.9120 - mcor: 0.8011 - precision: 0.8847 - recall: 0.8482 - f1: 0.8658 - val_loss: 2.0987 - val_acc: 0.5426 - val_mcor: -0.0318 - val_precision: 0.3124 - val_recall: 0.3085 - val_f1: 0.3104\n",
            "Epoch 60/60\n",
            "6/6 [==============================] - 71s 12s/step - loss: 0.2600 - acc: 0.8898 - mcor: 0.7505 - precision: 0.8466 - recall: 0.8182 - f1: 0.8319 - val_loss: 2.1278 - val_acc: 0.5390 - val_mcor: -0.0372 - val_precision: 0.3085 - val_recall: 0.3085 - val_f1: 0.3085\n"
          ],
          "name": "stdout"
        }
      ]
    },
    {
      "cell_type": "code",
      "metadata": {
        "id": "2gK4qyQ8_ni8",
        "colab": {
          "base_uri": "https://localhost:8080/"
        },
        "outputId": "56447cc0-6927-4981-f523-c3aa378fbcc1"
      },
      "source": [
        "print(history.history.keys())"
      ],
      "execution_count": null,
      "outputs": [
        {
          "output_type": "stream",
          "text": [
            "dict_keys(['val_loss', 'val_acc', 'val_mcor', 'val_precision', 'val_recall', 'val_f1', 'loss', 'acc', 'mcor', 'precision', 'recall', 'f1'])\n"
          ],
          "name": "stdout"
        }
      ]
    },
    {
      "cell_type": "code",
      "metadata": {
        "id": "sLjhAGpi_nln",
        "colab": {
          "base_uri": "https://localhost:8080/",
          "height": 592
        },
        "outputId": "9e240187-8e32-4e39-b4cf-59415f69407f"
      },
      "source": [
        "# Plot the loss and accuracy curves for training and validation \r\n",
        "fig, ax = plt.subplots(2,1, figsize=(18, 10))\r\n",
        "ax[0].plot(history.history['loss'], color='b', label=\"Training loss\")\r\n",
        "ax[0].plot(history.history['val_loss'], color='r', label=\"validation loss\",axes =ax[0])\r\n",
        "legend = ax[0].legend(loc='best', shadow=True)\r\n",
        "\r\n",
        "ax[1].plot(history.history['acc'], color='b', label=\"Training accuracy\")\r\n",
        "ax[1].plot(history.history['val_acc'], color='r',label=\"Validation accuracy\")\r\n",
        "legend = ax[1].legend(loc='best', shadow=True)"
      ],
      "execution_count": null,
      "outputs": [
        {
          "output_type": "display_data",
          "data": {
            "image/png": "[encoded data removed]",
            "text/plain": [
              "<Figure size 1296x720 with 2 Axes>"
            ]
          },
          "metadata": {
            "tags": [],
            "needs_background": "light"
          }
        }
      ]
    },
    {
      "cell_type": "code",
      "metadata": {
        "id": "8Dt_aM4y_nnx",
        "colab": {
          "base_uri": "https://localhost:8080/"
        },
        "outputId": "e64cbd84-863f-45de-a031-0aedbfda3ede"
      },
      "source": [
        "print('\\nhistory dict:', history.history)\r\n"
      ],
      "execution_count": null,
      "outputs": [
        {
          "output_type": "stream",
          "text": [
            "\n",
            "history dict: {'val_loss': [0.6056065331114099, 0.4404043472827749, 0.5652325045555195, 0.4206079105113415, 0.3731233338092236, 0.39492131928180124, 0.4641080784036758, 0.4556315243244171, 0.4516039972609662, 0.3384094815304939, 0.34758166239616717, 0.3433273865821514, 0.3724020820982913, 0.3569410487692407, 0.3674111740386232, 0.33424798288243884, 0.44734262595785423, 0.39468108276103403, 0.6877669945676276, 0.5980036525016136], 'val_acc': [0.7446808561365655, 0.7907801828485854, 0.70921986407422, 0.8014184350663043, 0.8262411470108844, 0.8333333540470043, 0.780141884976245, 0.7872340463577433, 0.7588652625997016, 0.8510638234463144, 0.8510638006190037, 0.8262411520836201, 0.8475177059782312, 0.854609951059869, 0.85460993203711, 0.8581560495051932, 0.7943263003166686, 0.8297872479925764, 0.7056738011380459, 0.7127659625195443], 'val_mcor': [0.4225986377989992, 0.5388327500921615, 0.317916750273806, 0.5397719981822562, 0.5975462718212858, 0.6132569947141282, 0.47775376286912474, 0.5165237505385216, 0.4224476484542197, 0.6569276946656247, 0.656564547660503, 0.5959173111205406, 0.6493724128033252, 0.6623810117549085, 0.6648025639513706, 0.6721184532693092, 0.5198983702253788, 0.6014282424399193, 0.31599451506391485, 0.33311609448270596], 'val_precision': [0.6197666487795241, 0.6736830117854666, 0.5823201701996175, 0.7474440551818685, 0.7850275889356085, 0.8615639780430083, 0.7665686860997626, 0.6891852262172293, 0.7161277139440496, 0.8263080449814492, 0.825483445157396, 0.8570014910495027, 0.807563119746269, 0.839825951038523, 0.8552556798813191, 0.8542389273643494, 0.7366237247243841, 0.8326439159981748, 0.5681639275652297, 0.5817002641393784], 'val_recall': [0.6063829863325079, 0.7234042515145972, 0.46808510638297873, 0.6170212842048483, 0.6595744642805546, 0.5957446884601674, 0.4893617033958435, 0.659574474426026, 0.4574468104129142, 0.7021276557699163, 0.7021276659153878, 0.5744680939836705, 0.7127659625195443, 0.6914893705794152, 0.6808510600252354, 0.6914893566293919, 0.5957446871919835, 0.6063829793574962, 0.48936170212765956, 0.5], 'val_f1': [0.612968514574335, 0.6976143540220058, 0.5176605911965065, 0.6748499324981202, 0.7168474653933911, 0.7043990023592686, 0.5965146752113991, 0.6740033816783986, 0.5574814804056858, 0.7588938677564581, 0.7587965739534256, 0.6878503713201969, 0.7571780199700213, 0.758146216260626, 0.7575315325818164, 0.7638376684899025, 0.6577807335143394, 0.7005406592754607, 0.5257084001886084, 0.5374244692477774], 'loss': [0.8205836605518422, 0.6437456290772621, 0.49582012219631927, 0.4525275515749099, 0.42776721081835156, 0.3876750310684772, 0.36269483097056127, 0.3803813267261424, 0.38525560561646804, 0.3876941590867144, 0.3488667201488576, 0.3582115376249273, 0.34851353726488477, 0.3671119511127472, 0.31093691447947885, 0.33620152004221654, 0.3159875958523852, 0.29968745023646254, 0.30456167649715504, 0.3461990946150841], 'acc': [0.6675532029030171, 0.7358155986095997, 0.7916666941439852, 0.7836879605942584, 0.7916666941439852, 0.8289006986516587, 0.8386524890331511, 0.8377659511058888, 0.8182624020475022, 0.8262411558881719, 0.8563829850643239, 0.8395389977921831, 0.8457447125556621, 0.839538999060367, 0.872340442018306, 0.8634751895640759, 0.8687943296229585, 0.8767730619045014, 0.8625886605141011, 0.8563829660415649], 'mcor': [0.2617704342020319, 0.3704801835912339, 0.5465925893885024, 0.49310765875146745, 0.5298365899857055, 0.6067091683123974, 0.6288056716005853, 0.6326377157201158, 0.5862453592584488, 0.6006104273998991, 0.6799689683508365, 0.6339033588450006, 0.6465051199527497, 0.6363699626415333, 0.7072192062722876, 0.6875704209855262, 0.7048059093191269, 0.7208048295467457, 0.6873285630916027, 0.6736402549642198], 'precision': [0.5329820678589192, 0.6572481634769034, 0.6709691844087966, 0.7252587232183902, 0.6835735630481801, 0.7713522517934759, 0.7850989280863011, 0.779553935882893, 0.7391060514652983, 0.7803726766971831, 0.7765659030447615, 0.7875862375218817, 0.797799640513481, 0.7665402559523887, 0.8425076083934053, 0.8224321946184686, 0.8052841399578338, 0.8268773986938152, 0.8141258270182508, 0.8063940811664501], 'recall': [0.5000000025363679, 0.4521276595744681, 0.7420212791321126, 0.5664893629703116, 0.6861702165705093, 0.6914893578975758, 0.7074468072424543, 0.7260638335917858, 0.7021276570381002, 0.6728723404255319, 0.800531914893617, 0.7154255306467097, 0.7207446821192478, 0.7446808536001976, 0.7579787208678874, 0.7526595782726369, 0.800531916161801, 0.797872337889164, 0.7632978761449773, 0.7526595706635333], 'f1': [0.45760146227288756, 0.5241182440138877, 0.7035333400077008, 0.6330999833472232, 0.6820442600453154, 0.7288729206044623, 0.7436867140709086, 0.7507619109559567, 0.7197154595496806, 0.7218916302031659, 0.7881825299973183, 0.7477780250792808, 0.7570514678955078, 0.7549478792129679, 0.797853594130658, 0.7856854618863857, 0.8021769016347033, 0.8118607604757269, 0.7873553582962524, 0.7772734850010974]}\n"
          ],
          "name": "stdout"
        }
      ]
    },
    {
      "cell_type": "code",
      "metadata": {
        "id": "OCHOmDL8hlkp"
      },
      "source": [
        "test_labels = np.argmax(y_test,axis=1)"
      ],
      "execution_count": null,
      "outputs": []
    },
    {
      "cell_type": "code",
      "metadata": {
        "id": "19xWZv56_nqW",
        "colab": {
          "base_uri": "https://localhost:8080/",
          "height": 422
        },
        "outputId": "005dbc8f-6d53-44ba-d966-42573ab50b74"
      },
      "source": [
        "import seaborn as sns\r\n",
        "from sklearn.metrics import confusion_matrix\r\n",
        "fig = plt.figure(figsize=(3, 3)) # Set Figure\r\n",
        "\r\n",
        "y_pred = model.predict(x_test,verbose=1) # Predict encoded label as 2 => [0, 0, 1, 0, 0, 0, 0, 0, 0, 0]\r\n",
        "y = []\r\n",
        "for i in y_pred:\r\n",
        "  if i[0]>i[1] and i[0]>i[2]:\r\n",
        "    y.append(0)\r\n",
        "  elif i[1]>i[0] and i[1]>i[2]:\r\n",
        "    y.append(1)\r\n",
        "  else:\r\n",
        "    y.append(2)\r\n",
        "mat = confusion_matrix(test_labels, y) # Confusion matrix\r\n",
        "\r\n",
        "# Plot Confusion matrix\r\n",
        "plt.figure(figsize=(10,6))\r\n",
        "sns.heatmap(mat.T, square=True, annot=True,fmt='0.2f', cbar=False, cmap=plt.cm.Blues)\r\n",
        "plt.xlabel('Predicted Values')\r\n",
        "plt.ylabel('True Values');\r\n",
        "plt.show();"
      ],
      "execution_count": null,
      "outputs": [
        {
          "output_type": "stream",
          "text": [
            "118/118 [==============================] - 11s 92ms/step\n"
          ],
          "name": "stdout"
        },
        {
          "output_type": "display_data",
          "data": {
            "text/plain": [
              "<Figure size 216x216 with 0 Axes>"
            ]
          },
          "metadata": {
            "tags": []
          }
        },
        {
          "output_type": "display_data",
          "data": {
            "image/png": "[encoded data removed]",
            "text/plain": [
              "<Figure size 720x432 with 1 Axes>"
            ]
          },
          "metadata": {
            "tags": [],
            "needs_background": "light"
          }
        }
      ]
    },
    {
      "cell_type": "code",
      "metadata": {
        "id": "kpr1WMZk_ntp",
        "colab": {
          "base_uri": "https://localhost:8080/"
        },
        "outputId": "5856dc20-1f4d-41e6-e541-94fcfc60286d"
      },
      "source": [
        "from sklearn.metrics import accuracy_score,f1_score,precision_score,recall_score\r\n",
        "acc = accuracy_score(test_labels,y)\r\n",
        "f1_score = f1_score(test_labels,y,average='macro')\r\n",
        "precision = precision_score(test_labels,y,average='macro')\r\n",
        "recall = recall_score(test_labels,y,average='macro')\r\n",
        "\r\n",
        "print(acc, f1_score, precision, recall)"
      ],
      "execution_count": null,
      "outputs": [
        {
          "output_type": "stream",
          "text": [
            "0.635593220338983 0.627324155481822 0.6755651755651756 0.6228956228956228\n"
          ],
          "name": "stdout"
        }
      ]
    },
    {
      "cell_type": "code",
      "metadata": {
        "id": "k2MiOeNB7qew",
        "colab": {
          "base_uri": "https://localhost:8080/"
        },
        "outputId": "e65e99af-85fe-4bba-942f-da03fdf5530a"
      },
      "source": [
        "sensitivity=recall\r\n",
        "sensitivity"
      ],
      "execution_count": null,
      "outputs": [
        {
          "output_type": "execute_result",
          "data": {
            "text/plain": [
              "0.6228956228956228"
            ]
          },
          "metadata": {
            "tags": []
          },
          "execution_count": 79
        }
      ]
    },
    {
      "cell_type": "code",
      "metadata": {
        "id": "Db47-9m0AlpI",
        "colab": {
          "base_uri": "https://localhost:8080/"
        },
        "outputId": "952226fe-81e8-4961-8cbb-9f86dfd2a129"
      },
      "source": [
        "fp = mat.sum(axis=0) - np.diag(mat)  \r\n",
        "fn = mat.sum(axis=1) - np.diag(mat)\r\n",
        "tp = np.diag(mat)\r\n",
        "tn = mat.sum() - (fp + fn + tp)\r\n",
        "fp,fn,tp,tn"
      ],
      "execution_count": null,
      "outputs": [
        {
          "output_type": "execute_result",
          "data": {
            "text/plain": [
              "(array([ 3, 14, 26]),\n",
              " array([17, 19,  7]),\n",
              " array([19, 19, 37]),\n",
              " array([79, 66, 48]))"
            ]
          },
          "metadata": {
            "tags": []
          },
          "execution_count": 80
        }
      ]
    },
    {
      "cell_type": "code",
      "metadata": {
        "id": "g6et-70hAlrj",
        "colab": {
          "base_uri": "https://localhost:8080/"
        },
        "outputId": "b211c86a-e646-410a-9a5a-0aa2e5182ebf"
      },
      "source": [
        "specificity =tn / (tn + fp)\r\n",
        "specificity"
      ],
      "execution_count": null,
      "outputs": [
        {
          "output_type": "execute_result",
          "data": {
            "text/plain": [
              "array([0.96341463, 0.825     , 0.64864865])"
            ]
          },
          "metadata": {
            "tags": []
          },
          "execution_count": 81
        }
      ]
    },
    {
      "cell_type": "code",
      "metadata": {
        "id": "a8Xg6QXSAluB",
        "colab": {
          "base_uri": "https://localhost:8080/",
          "height": 404
        },
        "outputId": "cc642cd6-470d-4937-af68-302395324e75"
      },
      "source": [
        "from sklearn.metrics import roc_curve\r\n",
        "from sklearn.metrics import roc_auc_score\r\n",
        "import sklearn.metrics as metrics\r\n",
        "# calculate the fpr and tpr for all thresholds of the classification\r\n",
        "fpr = [None] * 3\r\n",
        "tpr = [None] * 3\r\n",
        "threshold = [None] * 3\r\n",
        "for i in range(3):\r\n",
        "    fpr[i], tpr[i], threshold[i] = metrics.roc_curve(y_test[:,i],y_pred[:,i])\r\n",
        "roc_auc0 = metrics.auc(fpr[0], tpr[0])\r\n",
        "roc_auc1 = metrics.auc(fpr[1], tpr[1])\r\n",
        "roc_auc2 = metrics.auc(fpr[2], tpr[2])\r\n",
        "\r\n",
        "# method I: plt\r\n",
        "import matplotlib.pyplot as plt\r\n",
        "fig,ax = plt.subplots(1,3,figsize=(20,6))\r\n",
        "plt.title('Receiver Operating Characteristic')\r\n",
        "ax[0].plot(fpr[0], tpr[0], 'b', label = 'AUC = %0.2f' % roc_auc0)\r\n",
        "ax[1].plot(fpr[1], tpr[1], 'r', label = 'AUC = %0.2f' % roc_auc1)\r\n",
        "ax[2].plot(fpr[2], tpr[2], 'g', label = 'AUC = %0.2f' % roc_auc2)\r\n",
        "\r\n",
        "ax[0].title.set_text('ROC Curve for class 0')\r\n",
        "ax[1].title.set_text('ROC Curve for class 1')\r\n",
        "ax[2].title.set_text('ROC Curve for class 2')\r\n",
        "\r\n",
        "ax[0].legend(loc = 'lower right')\r\n",
        "ax[1].legend(loc = 'lower right')\r\n",
        "ax[2].legend(loc = 'lower right')\r\n",
        "\r\n",
        "ax[0].plot([0, 1], [0, 1],'r--')\r\n",
        "ax[1].plot([0, 1], [0, 1],'r--')\r\n",
        "ax[2].plot([0, 1], [0, 1],'r--')\r\n",
        "\r\n",
        "plt.xlim([0, 1])\r\n",
        "plt.ylim([0, 1])\r\n",
        "plt.ylabel('True Positive Rate')\r\n",
        "plt.xlabel('False Positive Rate')\r\n",
        "plt.show()"
      ],
      "execution_count": null,
      "outputs": [
        {
          "output_type": "display_data",
          "data": {
            "image/png": "[encoded data removed]",
            "text/plain": [
              "<Figure size 1440x432 with 3 Axes>"
            ]
          },
          "metadata": {
            "tags": [],
            "needs_background": "light"
          }
        }
      ]
    }
  ]
}